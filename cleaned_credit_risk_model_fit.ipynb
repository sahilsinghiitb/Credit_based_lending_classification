{
 "cells": [
  {
   "cell_type": "code",
   "execution_count": null,
   "metadata": {
    "id": "tMTuTmASN3TE"
   },
   "outputs": [],
   "source": []
  },
  {
   "cell_type": "code",
   "execution_count": null,
   "metadata": {
    "id": "OgXfwO9q-Pcd"
   },
   "outputs": [],
   "source": [
    "#Import libraries\n",
    "import numpy as np\n",
    "import pandas as pd\n",
    "import matplotlib.pyplot as plt\n",
    "from sklearn.metrics import r2_score\n",
    "from scipy.stats import chi2_contingency\n",
    "from statsmodels.stats.outliers_influence import variance_inflation_factor\n",
    "from sklearn.model_selection import train_test_split\n",
    "from sklearn.ensemble import RandomForestClassifier\n",
    "from sklearn.metrics import accuracy_score, classification_report, precision_recall_fscore_support\n",
    "import warnings\n",
    "import os"
   ]
  },
  {
   "cell_type": "code",
   "execution_count": null,
   "metadata": {
    "id": "r7vQaoLSjsNH"
   },
   "outputs": [],
   "source": [
    "import xgboost as xgb\n",
    "from sklearn.preprocessing import LabelEncoder"
   ]
  },
  {
   "cell_type": "code",
   "execution_count": null,
   "metadata": {
    "colab": {
     "base_uri": "https://localhost:8080/"
    },
    "executionInfo": {
     "elapsed": 32993,
     "status": "ok",
     "timestamp": 1754929841698,
     "user": {
      "displayName": "sahil singh",
      "userId": "03695066597198632336"
     },
     "user_tz": -330
    },
    "id": "zTWRsVhJ1yHP",
    "outputId": "82c3d507-4901-4343-c044-e5d122913a36"
   },
   "outputs": [],
   "source": [
    "from google.colab import drive\n",
    "drive.mount('/content/drive')"
   ]
  },
  {
   "cell_type": "code",
   "execution_count": null,
   "metadata": {
    "id": "5HcUrwARd_-Z"
   },
   "outputs": [],
   "source": [
    "df_encoded=pd.read_csv('/content/drive/My Drive/encoded_data/df_encoded.csv')"
   ]
  },
  {
   "cell_type": "code",
   "execution_count": null,
   "metadata": {
    "id": "-3B_771IgAzj"
   },
   "outputs": [],
   "source": [
    "y=df_encoded['Approved_Flag']\n",
    "x=df_encoded.drop(['Approved_Flag'],axis=1)"
   ]
  },
  {
   "cell_type": "code",
   "execution_count": null,
   "metadata": {
    "colab": {
     "base_uri": "https://localhost:8080/"
    },
    "executionInfo": {
     "elapsed": 25,
     "status": "ok",
     "timestamp": 1754930415536,
     "user": {
      "displayName": "sahil singh",
      "userId": "03695066597198632336"
     },
     "user_tz": -330
    },
    "id": "UiASgvzjAErc",
    "outputId": "bccf772b-a4ea-4829-967e-0b86ecffd120"
   },
   "outputs": [],
   "source": [
    "df_encoded.info()"
   ]
  },
  {
   "cell_type": "code",
   "execution_count": null,
   "metadata": {
    "id": "DWji3_-5mxXH"
   },
   "outputs": [],
   "source": [
    "label_encoder = LabelEncoder()\n",
    "y_encoded = label_encoder.fit_transform(y)"
   ]
  },
  {
   "cell_type": "code",
   "execution_count": null,
   "metadata": {
    "id": "FR33H_CdnIMa"
   },
   "outputs": [],
   "source": [
    "X_train, X_test, y_train, y_test = train_test_split(x, y_encoded, test_size=0.2, random_state=42)"
   ]
  },
  {
   "cell_type": "code",
   "execution_count": null,
   "metadata": {
    "colab": {
     "base_uri": "https://localhost:8080/"
    },
    "executionInfo": {
     "elapsed": 25,
     "status": "ok",
     "timestamp": 1754929894727,
     "user": {
      "displayName": "sahil singh",
      "userId": "03695066597198632336"
     },
     "user_tz": -330
    },
    "id": "H6q0dCnrflkN",
    "outputId": "67cb04cc-ed70-4e83-a3f1-7d4cfb60ac74"
   },
   "outputs": [],
   "source": [
    "x.info()"
   ]
  },
  {
   "cell_type": "code",
   "execution_count": null,
   "metadata": {
    "colab": {
     "base_uri": "https://localhost:8080/",
     "height": 241
    },
    "executionInfo": {
     "elapsed": 25,
     "status": "ok",
     "timestamp": 1754929917337,
     "user": {
      "displayName": "sahil singh",
      "userId": "03695066597198632336"
     },
     "user_tz": -330
    },
    "id": "jOw2zHtIf82H",
    "outputId": "4f33822c-c110-4327-8467-114bc03f3e36"
   },
   "outputs": [],
   "source": [
    "y.value_counts()"
   ]
  },
  {
   "cell_type": "code",
   "execution_count": null,
   "metadata": {
    "id": "jRjRgG27gIi5"
   },
   "outputs": [],
   "source": [
    "##Logistic reg fit"
   ]
  },
  {
   "cell_type": "code",
   "execution_count": null,
   "metadata": {
    "id": "xK6hZfUAhc2K"
   },
   "outputs": [],
   "source": [
    "from sklearn.preprocessing import StandardScaler\n",
    "\n",
    "scaler = StandardScaler()\n",
    "X_train_scaled = scaler.fit_transform(X_train)\n",
    "X_test_scaled = scaler.transform(X_test)"
   ]
  },
  {
   "cell_type": "code",
   "execution_count": null,
   "metadata": {
    "colab": {
     "base_uri": "https://localhost:8080/",
     "height": 137
    },
    "executionInfo": {
     "elapsed": 1826,
     "status": "ok",
     "timestamp": 1754930689934,
     "user": {
      "displayName": "sahil singh",
      "userId": "03695066597198632336"
     },
     "user_tz": -330
    },
    "id": "UKJRGKjwhgj4",
    "outputId": "3ea70b15-76f8-47dd-9c4e-f769271d015d"
   },
   "outputs": [],
   "source": [
    "from sklearn.linear_model import LogisticRegression\n",
    "\n",
    "lr_model = LogisticRegression(multi_class='multinomial', solver='lbfgs', max_iter=1000, random_state=42)\n",
    "lr_model.fit(X_train_scaled, y_train)"
   ]
  },
  {
   "cell_type": "code",
   "execution_count": null,
   "metadata": {
    "colab": {
     "base_uri": "https://localhost:8080/"
    },
    "executionInfo": {
     "elapsed": 21,
     "status": "ok",
     "timestamp": 1754930695189,
     "user": {
      "displayName": "sahil singh",
      "userId": "03695066597198632336"
     },
     "user_tz": -330
    },
    "id": "0um6ZlRChgZG",
    "outputId": "182cb251-27d7-4f78-fc94-8576a5226d4c"
   },
   "outputs": [],
   "source": [
    "#evaluate\n",
    "from sklearn.metrics import classification_report, accuracy_score\n",
    "\n",
    "y_pred = lr_model.predict(X_test_scaled)\n",
    "print(\"Accuracy:\", accuracy_score(y_test, y_pred))\n",
    "print(classification_report(y_test, y_pred, target_names=label_encoder.classes_))"
   ]
  },
  {
   "cell_type": "code",
   "execution_count": null,
   "metadata": {
    "colab": {
     "base_uri": "https://localhost:8080/"
    },
    "executionInfo": {
     "elapsed": 49,
     "status": "ok",
     "timestamp": 1754931146842,
     "user": {
      "displayName": "sahil singh",
      "userId": "03695066597198632336"
     },
     "user_tz": -330
    },
    "id": "Iqd4k2EICiMf",
    "outputId": "47fd41b1-f71c-4c61-8ba1-076d3412c0bd"
   },
   "outputs": [],
   "source": [
    "# Coefficients and Odds Ratios\n",
    "coefficients = lr_model.coef_[0]\n",
    "odds_ratios = np.exp(coefficients)\n",
    "\n",
    "\n",
    "# Display feature importance using coefficients and odds ratios\n",
    "feature_importance = pd.DataFrame({\n",
    "    'Feature': x.columns,\n",
    "    'Coefficient': coefficients,\n",
    "    'Odds Ratio': odds_ratios\n",
    "})\n",
    "print(\"\\nFeature Importance (Coefficient and Odds Ratio):\")\n",
    "print(feature_importance.sort_values(by='Coefficient', ascending=False))"
   ]
  },
  {
   "cell_type": "code",
   "execution_count": null,
   "metadata": {
    "colab": {
     "base_uri": "https://localhost:8080/"
    },
    "executionInfo": {
     "elapsed": 3476,
     "status": "ok",
     "timestamp": 1754931540991,
     "user": {
      "displayName": "sahil singh",
      "userId": "03695066597198632336"
     },
     "user_tz": -330
    },
    "id": "8uJ-8AMlERw7",
    "outputId": "759b8b55-3e6c-458c-ecda-2bd5f89b9686"
   },
   "outputs": [],
   "source": [
    "# Permutation Importance\n",
    "from sklearn.inspection import permutation_importance\n",
    "from sklearn.feature_selection import RFE\n",
    "perm_importance = permutation_importance(lr_model, X_test_scaled, y_test, n_repeats=30, random_state=42, n_jobs=-1)\n",
    "perm_importance_df = pd.DataFrame({\n",
    "    'Feature': x.columns,\n",
    "    'Importance Mean': perm_importance.importances_mean,\n",
    "    'Importance Std': perm_importance.importances_std\n",
    "})\n",
    "print(\"\\nPermutation Importance:\")\n",
    "print(perm_importance_df.sort_values(by='Importance Mean', ascending=False))"
   ]
  },
  {
   "cell_type": "code",
   "execution_count": null,
   "metadata": {
    "colab": {
     "base_uri": "https://localhost:8080/",
     "height": 154
    },
    "executionInfo": {
     "elapsed": 1670,
     "status": "ok",
     "timestamp": 1754931564326,
     "user": {
      "displayName": "sahil singh",
      "userId": "03695066597198632336"
     },
     "user_tz": -330
    },
    "id": "7e_L4FrUiF61",
    "outputId": "39105a3f-b5ed-4e12-b108-626cf7cf6ef7"
   },
   "outputs": [],
   "source": [
    "lr_model_w = LogisticRegression(\n",
    "    multi_class='multinomial',\n",
    "    solver='lbfgs',\n",
    "    class_weight='balanced',  # Automatically adjusts for class imbalance\n",
    "    max_iter=1000,\n",
    "    random_state=42\n",
    ")\n",
    "lr_model_w.fit(X_train_scaled, y_train)"
   ]
  },
  {
   "cell_type": "code",
   "execution_count": null,
   "metadata": {
    "colab": {
     "base_uri": "https://localhost:8080/"
    },
    "executionInfo": {
     "elapsed": 13,
     "status": "ok",
     "timestamp": 1754931568907,
     "user": {
      "displayName": "sahil singh",
      "userId": "03695066597198632336"
     },
     "user_tz": -330
    },
    "id": "JC7Gt2AMikj2",
    "outputId": "23995d91-558e-4450-9410-550438c0dbe8"
   },
   "outputs": [],
   "source": [
    "#evaluate\n",
    "from sklearn.metrics import classification_report, accuracy_score\n",
    "\n",
    "y_pred_w = lr_model_w.predict(X_test_scaled)\n",
    "print(\"Accuracy:\", accuracy_score(y_test, y_pred_w))\n",
    "print(classification_report(y_test, y_pred_w, target_names=label_encoder.classes_))"
   ]
  },
  {
   "cell_type": "code",
   "execution_count": null,
   "metadata": {
    "id": "o65s7gjIiFsO"
   },
   "outputs": [],
   "source": [
    "custom_weights = {0: 1.5, 1: 0.8, 2: 2.0, 3: 1.2}  # Try increasing weight for P3 (label 2)\n",
    "lr_custom = LogisticRegression(multi_class='multinomial', solver='lbfgs', class_weight=custom_weights, max_iter=1000)"
   ]
  },
  {
   "cell_type": "code",
   "execution_count": null,
   "metadata": {
    "colab": {
     "base_uri": "https://localhost:8080/"
    },
    "executionInfo": {
     "elapsed": 1475,
     "status": "ok",
     "timestamp": 1754931608556,
     "user": {
      "displayName": "sahil singh",
      "userId": "03695066597198632336"
     },
     "user_tz": -330
    },
    "id": "7x3sAWxHjt6s",
    "outputId": "d4f85868-34a3-4fcb-86f7-1e30f54839eb"
   },
   "outputs": [],
   "source": [
    "#evaluate\n",
    "from sklearn.metrics import classification_report, accuracy_score\n",
    "lr_custom.fit(X_train_scaled, y_train)\n",
    "y_pred_custom = lr_custom.predict(X_test_scaled)\n",
    "print(\"Accuracy:\", accuracy_score(y_test, y_pred_custom))\n",
    "print(classification_report(y_test, y_pred_custom, target_names=label_encoder.classes_))"
   ]
  },
  {
   "cell_type": "code",
   "execution_count": null,
   "metadata": {
    "id": "Oj6qkSbqlYWL"
   },
   "outputs": [],
   "source": [
    "from sklearn.linear_model import LogisticRegression\n",
    "from sklearn.metrics import classification_report\n",
    "\n",
    "# Store different weight combinations to test\n",
    "weight_options = [\n",
    "    {0: 1, 1: 1, 2: 1, 3: 1},               # baseline (no weighting)\n",
    "    {0: 1.5, 1: 0.7, 2: 2.5, 3: 1.5},       # trial 1\n",
    "    {0: 1.2, 1: 0.9, 2: 3.0, 3: 1.8},       # trial 2 (boost P3/P4 more)\n",
    "    {0: 1.0, 1: 1.0, 2: 2.0, 3: 2.0},       # trial 3 (balanced emphasis)\n",
    "    {0: 1.3, 1: 0.8, 2: 2.8, 3: 1.6},       # trial 4\n",
    "]"
   ]
  },
  {
   "cell_type": "code",
   "execution_count": null,
   "metadata": {
    "colab": {
     "base_uri": "https://localhost:8080/"
    },
    "executionInfo": {
     "elapsed": 8389,
     "status": "ok",
     "timestamp": 1754931628481,
     "user": {
      "displayName": "sahil singh",
      "userId": "03695066597198632336"
     },
     "user_tz": -330
    },
    "id": "esID16T0lYKS",
    "outputId": "c5435dd6-32be-492e-aa70-1d73f27efb3d"
   },
   "outputs": [],
   "source": [
    "from sklearn.model_selection import train_test_split\n",
    "\n",
    "for i, weights in enumerate(weight_options):\n",
    "    print(f\"\\n🔎 Trial {i + 1} with weights: {weights}\")\n",
    "    model = LogisticRegression(multi_class='multinomial', solver='lbfgs',max_iter=1000, class_weight=weights)\n",
    "    model.fit(X_train_scaled, y_train)\n",
    "    y_pred = model.predict(X_test_scaled)\n",
    "    print(\"Accuracy:\", accuracy_score(y_test, y_pred))\n",
    "    print(classification_report(y_test, y_pred, target_names=label_encoder.classes_))"
   ]
  },
  {
   "cell_type": "markdown",
   "metadata": {
    "id": "bodXGi7n2CsH"
   },
   "source": [
    "custom_weights = {0: 1.5, 1: 0.8, 2: 2.0, 3: 1.2}  # Try increasing weight for P3 (label 2)"
   ]
  },
  {
   "cell_type": "code",
   "execution_count": null,
   "metadata": {
    "id": "4XyVHBeY2CUb"
   },
   "outputs": [],
   "source": [
    "from sklearn.preprocessing import PolynomialFeatures, StandardScaler\n",
    "from sklearn.linear_model import LogisticRegression\n",
    "from sklearn.pipeline import Pipeline\n",
    "from sklearn.model_selection import train_test_split\n",
    "from sklearn.metrics import classification_report, accuracy_score"
   ]
  },
  {
   "cell_type": "code",
   "execution_count": null,
   "metadata": {
    "id": "f78i3xVC2xqm"
   },
   "outputs": [],
   "source": [
    "# Adjust degree for interactions; try 2 first\n",
    "poly_logreg_pipeline = Pipeline([\n",
    "    ('scaler', StandardScaler()),\n",
    "    ('logreg', LogisticRegression(\n",
    "        max_iter=1000,\n",
    "        solver='saga',          # supports L1\n",
    "        penalty='l1',           # L1 for feature selection\n",
    "        class_weight={0: 1.5, 1: 0.8, 2: 2.0, 3: 1.2},  # best weight trial\n",
    "        multi_class='multinomial',\n",
    "        random_state=42\n",
    "    ))\n",
    "])"
   ]
  },
  {
   "cell_type": "code",
   "execution_count": null,
   "metadata": {
    "colab": {
     "base_uri": "https://localhost:8080/"
    },
    "executionInfo": {
     "elapsed": 33451,
     "status": "ok",
     "timestamp": 1749377005164,
     "user": {
      "displayName": "sahil singh",
      "userId": "03695066597198632336"
     },
     "user_tz": -330
    },
    "id": "HmyNtbvA2wXt",
    "outputId": "565d73ed-0ee2-425f-9721-84b9601e5834"
   },
   "outputs": [],
   "source": [
    "poly_logreg_pipeline.fit(X_train, y_train)\n",
    "y_pred = poly_logreg_pipeline.predict(X_test)"
   ]
  },
  {
   "cell_type": "code",
   "execution_count": null,
   "metadata": {
    "colab": {
     "base_uri": "https://localhost:8080/"
    },
    "executionInfo": {
     "elapsed": 47,
     "status": "ok",
     "timestamp": 1749377022819,
     "user": {
      "displayName": "sahil singh",
      "userId": "03695066597198632336"
     },
     "user_tz": -330
    },
    "id": "ytfTowj23H13",
    "outputId": "27f2323c-83c3-4330-acb6-7a468f729ae8"
   },
   "outputs": [],
   "source": [
    "print(\"Accuracy:\", accuracy_score(y_test, y_pred))\n",
    "print(classification_report(y_test, y_pred))"
   ]
  },
  {
   "cell_type": "code",
   "execution_count": null,
   "metadata": {
    "colab": {
     "base_uri": "https://localhost:8080/"
    },
    "executionInfo": {
     "elapsed": 149407,
     "status": "ok",
     "timestamp": 1749377976654,
     "user": {
      "displayName": "sahil singh",
      "userId": "03695066597198632336"
     },
     "user_tz": -330
    },
    "id": "YzQbtvzJ_Is1",
    "outputId": "15f9a09f-db6e-41fb-8ced-5cc1d5d1ae25"
   },
   "outputs": [],
   "source": [
    "from sklearn.model_selection import cross_val_score\n",
    "\n",
    "# 5-Fold Cross Validation\n",
    "cv_scores = cross_val_score(\n",
    "    poly_logreg_pipeline, x, y_encoded,\n",
    "    cv=5,\n",
    "    scoring='accuracy',\n",
    "    n_jobs=-1\n",
    ")\n",
    "\n",
    "print(\"Cross-Validation Accuracy Scores:\", cv_scores)\n",
    "print(\"Mean Accuracy:\", cv_scores.mean())\n",
    "print(\"Standard Deviation:\", cv_scores.std())\n"
   ]
  },
  {
   "cell_type": "code",
   "execution_count": null,
   "metadata": {
    "colab": {
     "base_uri": "https://localhost:8080/"
    },
    "executionInfo": {
     "elapsed": 1150129,
     "status": "ok",
     "timestamp": 1749380757262,
     "user": {
      "displayName": "sahil singh",
      "userId": "03695066597198632336"
     },
     "user_tz": -330
    },
    "id": "QA8PYywK_IgM",
    "outputId": "d5520ca6-9735-4e85-e0fc-207ae4b8698f"
   },
   "outputs": [],
   "source": [
    "from xgboost import XGBClassifier\n",
    "from sklearn.metrics import accuracy_score, f1_score\n",
    "from sklearn.model_selection import train_test_split\n",
    "import pandas as pd\n",
    "import itertools\n",
    "from tqdm import tqdm\n",
    "\n",
    "# Define parameter grid\n",
    "param_dist = {\n",
    "    'colsample_bytree': [0.1, 0.3, 0.5, 0.7, 0.9],\n",
    "    'learning_rate': [1, 0.1, 0.01, 0.001],\n",
    "    'max_depth': [3, 5, 8, 10],\n",
    "    'reg_alpha': [1, 10, 100],\n",
    "    'n_estimators': [10, 50, 100]\n",
    "}\n",
    "\n",
    "# Generate all combinations\n",
    "keys, values = zip(*param_dist.items())\n",
    "param_combinations = [dict(zip(keys, v)) for v in itertools.product(*values)]\n",
    "\n",
    "# Split dataset (you must define X and y before this)\n",
    "X_train, X_test, y_train, y_test = train_test_split(x, y_encoded, test_size=0.2, random_state=42, stratify=y)\n",
    "\n",
    "results = []\n",
    "\n",
    "# Loop over combinations\n",
    "for params in tqdm(param_combinations, desc=\"Running Grid Search\"):\n",
    "    model = XGBClassifier(\n",
    "        objective='multi:softmax',\n",
    "        num_class=4,\n",
    "        eval_metric='mlogloss',\n",
    "        use_label_encoder=False,\n",
    "        random_state=42,\n",
    "        **params\n",
    "    )\n",
    "    model.fit(X_train, y_train)\n",
    "\n",
    "    y_pred_test = model.predict(X_test)\n",
    "    y_pred_train = model.predict(X_train)\n",
    "\n",
    "    test_acc = accuracy_score(y_test, y_pred_test)\n",
    "    train_acc = accuracy_score(y_train, y_pred_train)\n",
    "    f1 = f1_score(y_test, y_pred_test, average='weighted')\n",
    "\n",
    "    results.append({\n",
    "        **params,\n",
    "        'train_accuracy': train_acc,\n",
    "        'test_accuracy': test_acc,\n",
    "        'f1_score': f1\n",
    "    })\n",
    "\n",
    "# Convert to DataFrame\n",
    "results_df = pd.DataFrame(results)\n",
    "\n",
    "# Optional: save to CSV\n",
    "results_df.to_csv(\"xgboost_grid_search_results.csv\", index=False)\n",
    "\n",
    "# Show top 5 combinations\n",
    "print(results_df.sort_values(by='f1_score', ascending=False).head())"
   ]
  },
  {
   "cell_type": "code",
   "execution_count": null,
   "metadata": {
    "colab": {
     "base_uri": "https://localhost:8080/"
    },
    "executionInfo": {
     "elapsed": 2802,
     "status": "ok",
     "timestamp": 1749380968280,
     "user": {
      "displayName": "sahil singh",
      "userId": "03695066597198632336"
     },
     "user_tz": -330
    },
    "id": "pq3SrDuwOxT_",
    "outputId": "2bd3a0e8-a282-4c61-cedd-f1d50e7aedfc"
   },
   "outputs": [],
   "source": [
    "from google.colab import drive\n",
    "drive.mount('/content/drive')"
   ]
  },
  {
   "cell_type": "code",
   "execution_count": null,
   "metadata": {
    "id": "KUJmWUhqOyHW"
   },
   "outputs": [],
   "source": [
    "results_df.to_csv('/content/drive/MyDrive/xgboost_grid_search_results.csv', index=False)"
   ]
  },
  {
   "cell_type": "code",
   "execution_count": null,
   "metadata": {
    "colab": {
     "base_uri": "https://localhost:8080/",
     "height": 326
    },
    "executionInfo": {
     "elapsed": 1746,
     "status": "ok",
     "timestamp": 1749381704488,
     "user": {
      "displayName": "sahil singh",
      "userId": "03695066597198632336"
     },
     "user_tz": -330
    },
    "id": "LizY3PpNO2pD",
    "outputId": "82c5fd55-7d1d-401d-85b7-b18e5d47f12f"
   },
   "outputs": [],
   "source": [
    "from xgboost import XGBClassifier\n",
    "from sklearn.metrics import classification_report, confusion_matrix, f1_score\n",
    "\n",
    "# Choose one of the good ones, e.g., index 580\n",
    "best_params = {\n",
    "    'colsample_bytree': 0.9,\n",
    "    'learning_rate': 1.0,\n",
    "    'max_depth': 3,\n",
    "    'reg_alpha': 10,\n",
    "    'n_estimators': 50,\n",
    "    'objective': 'multi:softprob',\n",
    "    'num_class': 4,\n",
    "    'eval_metric': 'mlogloss',\n",
    "    'use_label_encoder': False,\n",
    "    'random_state': 42\n",
    "}\n",
    "\n",
    "xgb_best = XGBClassifier(**best_params)\n",
    "xgb_best.fit(X_train, y_train)"
   ]
  },
  {
   "cell_type": "code",
   "execution_count": null,
   "metadata": {
    "colab": {
     "base_uri": "https://localhost:8080/"
    },
    "executionInfo": {
     "elapsed": 396,
     "status": "ok",
     "timestamp": 1749381775523,
     "user": {
      "displayName": "sahil singh",
      "userId": "03695066597198632336"
     },
     "user_tz": -330
    },
    "id": "YI57VnRhRoUc",
    "outputId": "444ae8ac-7e8f-4b25-b9a3-31113f055bba"
   },
   "outputs": [],
   "source": [
    "y_probs = xgb_best.predict_proba(X_test)\n",
    "y_preds = y_probs.argmax(axis=1)\n",
    "\n",
    "print(classification_report(y_test, y_preds))\n",
    "print(confusion_matrix(y_test, y_preds))"
   ]
  },
  {
   "cell_type": "code",
   "execution_count": null,
   "metadata": {
    "colab": {
     "base_uri": "https://localhost:8080/",
     "height": 472
    },
    "executionInfo": {
     "elapsed": 2218,
     "status": "ok",
     "timestamp": 1749381879016,
     "user": {
      "displayName": "sahil singh",
      "userId": "03695066597198632336"
     },
     "user_tz": -330
    },
    "id": "7-BDaOk6SPjq",
    "outputId": "f812c237-6f5b-43e2-f357-49e4a5a121c8"
   },
   "outputs": [],
   "source": [
    "import seaborn as sns\n",
    "import matplotlib.pyplot as plt\n",
    "from sklearn.metrics import ConfusionMatrixDisplay\n",
    "\n",
    "ConfusionMatrixDisplay.from_predictions(y_test, y_preds, cmap=\"Blues\")\n",
    "plt.title(\"Confusion Matrix - XGBoost Best Model\")\n",
    "plt.show()"
   ]
  },
  {
   "cell_type": "code",
   "execution_count": null,
   "metadata": {
    "colab": {
     "base_uri": "https://localhost:8080/",
     "height": 716
    },
    "executionInfo": {
     "elapsed": 2845,
     "status": "ok",
     "timestamp": 1749382349462,
     "user": {
      "displayName": "sahil singh",
      "userId": "03695066597198632336"
     },
     "user_tz": -330
    },
    "id": "RcsijW7zSPJR",
    "outputId": "cccf45e9-f0d8-4e1c-cb0d-7adf7bf542e4"
   },
   "outputs": [],
   "source": [
    "import numpy as np\n",
    "import pandas as pd\n",
    "from sklearn.metrics import f1_score\n",
    "import matplotlib.pyplot as plt\n",
    "\n",
    "# Define threshold evaluation function\n",
    "def evaluate_class2_thresholds(y_probs, y_true, thresholds=np.arange(0.3, 0.61, 0.05)):\n",
    "    results = []\n",
    "\n",
    "    for thresh in thresholds:\n",
    "        adjusted_preds = []\n",
    "        for probs in y_probs:\n",
    "            if probs[2] > thresh:\n",
    "                adjusted_preds.append(2)\n",
    "            else:\n",
    "                adjusted_preds.append(np.argmax(probs))\n",
    "\n",
    "        f1_macro = f1_score(y_true, adjusted_preds, average='macro')\n",
    "        f1_weighted = f1_score(y_true, adjusted_preds, average='weighted')\n",
    "        f1_class2 = f1_score((y_true == 2), (np.array(adjusted_preds) == 2))\n",
    "\n",
    "        results.append({\n",
    "            'threshold': thresh,\n",
    "            'macro_f1': f1_macro,\n",
    "            'weighted_f1': f1_weighted,\n",
    "            'class2_f1': f1_class2\n",
    "        })\n",
    "\n",
    "    return pd.DataFrame(results)\n",
    "\n",
    "# Predict probabilities\n",
    "y_probs = xgb_best.predict_proba(X_test)\n",
    "# Ground truth\n",
    "y_true = y_test.values if hasattr(y_test, \"values\") else y_test\n",
    "\n",
    "# Evaluate thresholds\n",
    "threshold_results_df = evaluate_class2_thresholds(y_probs, y_true)\n",
    "\n",
    "# Plotting\n",
    "plt.figure(figsize=(10, 6))\n",
    "plt.plot(threshold_results_df['threshold'], threshold_results_df['macro_f1'], label='Macro F1')\n",
    "plt.plot(threshold_results_df['threshold'], threshold_results_df['weighted_f1'], label='Weighted F1')\n",
    "plt.plot(threshold_results_df['threshold'], threshold_results_df['class2_f1'], label='Class 2 F1', linestyle='--')\n",
    "plt.xlabel(\"Threshold for Class 2\")\n",
    "plt.ylabel(\"F1 Score\")\n",
    "plt.title(\"Threshold Optimization for Class 2\")\n",
    "plt.legend()\n",
    "plt.grid(True)\n",
    "plt.tight_layout()\n",
    "plt.show()\n",
    "\n",
    "# Show top results\n",
    "print(threshold_results_df.sort_values(by='class2_f1', ascending=False).head())"
   ]
  },
  {
   "cell_type": "code",
   "execution_count": null,
   "metadata": {
    "colab": {
     "base_uri": "https://localhost:8080/"
    },
    "executionInfo": {
     "elapsed": 2087096,
     "status": "ok",
     "timestamp": 1749384735364,
     "user": {
      "displayName": "sahil singh",
      "userId": "03695066597198632336"
     },
     "user_tz": -330
    },
    "id": "dgbE4JweUWU_",
    "outputId": "ddead50a-c78e-46f3-bb38-e81abd05697b"
   },
   "outputs": [],
   "source": [
    "from xgboost import XGBClassifier\n",
    "from sklearn.metrics import accuracy_score, f1_score\n",
    "from sklearn.model_selection import train_test_split\n",
    "import pandas as pd\n",
    "import itertools\n",
    "from tqdm import tqdm\n",
    "\n",
    "# Define parameter grid\n",
    "param_dist = {\n",
    "    'colsample_bytree': [0.1, 0.3, 0.5, 0.7, 0.9],\n",
    "    'learning_rate': [1, 0.1, 0.01, 0.001],\n",
    "    'max_depth': [3, 5, 8, 10],\n",
    "    'reg_alpha': [1, 10, 100],\n",
    "    'n_estimators': [10, 50, 100]\n",
    "}\n",
    "\n",
    "# Generate all combinations\n",
    "keys, values = zip(*param_dist.items())\n",
    "param_combinations = [dict(zip(keys, v)) for v in itertools.product(*values)]\n",
    "\n",
    "# Split dataset (you must define X and y before this)\n",
    "X_train, X_test, y_train, y_test = train_test_split(x, y_encoded, test_size=0.2, random_state=42)\n",
    "\n",
    "results = []\n",
    "\n",
    "# Loop over combinations\n",
    "for params in tqdm(param_combinations, desc=\"Running Grid Search\"):\n",
    "    model = XGBClassifier(\n",
    "        objective='multi:softmax',\n",
    "        num_class=4,\n",
    "        eval_metric='mlogloss',\n",
    "        use_label_encoder=False,\n",
    "        random_state=42,\n",
    "        **params\n",
    "    )\n",
    "    model.fit(X_train, y_train)\n",
    "\n",
    "    y_pred_test = model.predict(X_test)\n",
    "    y_pred_train = model.predict(X_train)\n",
    "\n",
    "    test_acc = accuracy_score(y_test, y_pred_test)\n",
    "    train_acc = accuracy_score(y_train, y_pred_train)\n",
    "    f1 = f1_score(y_test, y_pred_test, average='weighted')\n",
    "\n",
    "    results.append({\n",
    "        **params,\n",
    "        'train_accuracy': train_acc,\n",
    "        'test_accuracy': test_acc,\n",
    "        'f1_score': f1\n",
    "    })\n",
    "\n",
    "# Convert to DataFrame\n",
    "results_df_1 = pd.DataFrame(results)\n",
    "\n",
    "# Optional: save to CSV\n",
    "results_df.to_csv(\"xgboost_grid_search_results_without_stratify.csv\", index=False)\n",
    "\n",
    "# Show top 5 combinations\n",
    "print(results_df.sort_values(by='f1_score', ascending=False).head())"
   ]
  },
  {
   "cell_type": "code",
   "execution_count": null,
   "metadata": {
    "colab": {
     "base_uri": "https://localhost:8080/"
    },
    "executionInfo": {
     "elapsed": 3093,
     "status": "ok",
     "timestamp": 1754932411744,
     "user": {
      "displayName": "sahil singh",
      "userId": "03695066597198632336"
     },
     "user_tz": -330
    },
    "id": "AfVsNCPadXdF",
    "outputId": "dc7c25f1-dd5b-4c2d-8459-a9bb9c00c496"
   },
   "outputs": [],
   "source": [
    "from xgboost import XGBClassifier\n",
    "from sklearn.metrics import classification_report, confusion_matrix\n",
    "\n",
    "# Best parameters from grid search (you can change if you prefer another row)\n",
    "best_params = {\n",
    "    'colsample_bytree': 0.9,\n",
    "    'learning_rate': 1.0,\n",
    "    'max_depth': 3,\n",
    "    'reg_alpha': 10,\n",
    "    'n_estimators': 100,\n",
    "    'random_state': 42,\n",
    "    'use_label_encoder': False,\n",
    "    'eval_metric': 'mlogloss'\n",
    "}\n",
    "\n",
    "# Train final model\n",
    "xgb_best = XGBClassifier(**best_params)\n",
    "xgb_best.fit(X_train_scaled, y_train)\n",
    "\n",
    "# Predictions\n",
    "y_probs = xgb_best.predict_proba(X_test_scaled)\n",
    "y_preds = y_probs.argmax(axis=1)\n",
    "\n",
    "# Evaluation\n",
    "print(\"Classification Report:\\n\", classification_report(y_test, y_preds))\n",
    "print(\"Confusion Matrix:\\n\", confusion_matrix(y_test, y_preds))"
   ]
  },
  {
   "cell_type": "code",
   "execution_count": null,
   "metadata": {
    "colab": {
     "base_uri": "https://localhost:8080/"
    },
    "executionInfo": {
     "elapsed": 5797,
     "status": "ok",
     "timestamp": 1754932871688,
     "user": {
      "displayName": "sahil singh",
      "userId": "03695066597198632336"
     },
     "user_tz": -330
    },
    "id": "beb5a50e",
    "outputId": "2fcefcfa-3b15-4d85-c5ce-1e3ed0ea5b53"
   },
   "outputs": [],
   "source": [
    "!pip install optuna"
   ]
  },
  {
   "cell_type": "code",
   "execution_count": null,
   "metadata": {
    "colab": {
     "base_uri": "https://localhost:8080/"
    },
    "executionInfo": {
     "elapsed": 284682,
     "status": "ok",
     "timestamp": 1754933240470,
     "user": {
      "displayName": "sahil singh",
      "userId": "03695066597198632336"
     },
     "user_tz": -330
    },
    "id": "92rnEAipdXX9",
    "outputId": "25fb37f5-607c-49da-d2ab-ed224b37820f"
   },
   "outputs": [],
   "source": [
    "import optuna\n",
    "import xgboost as xgb\n",
    "from sklearn.metrics import accuracy_score\n",
    "\n",
    "def objective(trial):\n",
    "    params = {\n",
    "        'objective': 'multi:softprob',\n",
    "        'num_class': len(np.unique(y_train)),\n",
    "        'eval_metric': 'mlogloss',\n",
    "        'learning_rate': trial.suggest_float('learning_rate', 0.01, 0.3),\n",
    "        'max_depth': trial.suggest_int('max_depth', 3, 12),\n",
    "        'subsample': trial.suggest_float('subsample', 0.5, 1.0),\n",
    "        'colsample_bytree': trial.suggest_float('colsample_bytree', 0.5, 1.0),\n",
    "        'reg_alpha': trial.suggest_float('reg_alpha', 0, 10),\n",
    "        'reg_lambda': trial.suggest_float('reg_lambda', 0, 10),\n",
    "        'n_estimators': trial.suggest_int('n_estimators', 50, 300)\n",
    "    }\n",
    "    model = xgb.XGBClassifier(**params, use_label_encoder=False)\n",
    "    model.fit(X_train, y_train, eval_set=[(X_test, y_test)], verbose=False)\n",
    "    preds = model.predict(X_test)\n",
    "    return accuracy_score(y_test, preds)\n",
    "\n",
    "study = optuna.create_study(direction='maximize')\n",
    "study.optimize(objective, n_trials=50)"
   ]
  },
  {
   "cell_type": "code",
   "execution_count": null,
   "metadata": {
    "colab": {
     "base_uri": "https://localhost:8080/"
    },
    "executionInfo": {
     "elapsed": 57,
     "status": "ok",
     "timestamp": 1754933701917,
     "user": {
      "displayName": "sahil singh",
      "userId": "03695066597198632336"
     },
     "user_tz": -330
    },
    "id": "es70-hjmdXUg",
    "outputId": "9312f582-904d-4908-b2d0-0a99b5ac333b"
   },
   "outputs": [],
   "source": [
    "xgb_best.feature_importances_"
   ]
  },
  {
   "cell_type": "code",
   "execution_count": null,
   "metadata": {
    "colab": {
     "base_uri": "https://localhost:8080/"
    },
    "executionInfo": {
     "elapsed": 14509,
     "status": "ok",
     "timestamp": 1754934020098,
     "user": {
      "displayName": "sahil singh",
      "userId": "03695066597198632336"
     },
     "user_tz": -330
    },
    "id": "86odI5OdN41M",
    "outputId": "e2876506-e163-4335-ee81-7cfd7f0b69f2"
   },
   "outputs": [],
   "source": [
    "!pip install catboost"
   ]
  },
  {
   "cell_type": "code",
   "execution_count": null,
   "metadata": {
    "colab": {
     "base_uri": "https://localhost:8080/"
    },
    "executionInfo": {
     "elapsed": 114700,
     "status": "ok",
     "timestamp": 1754934263829,
     "user": {
      "displayName": "sahil singh",
      "userId": "03695066597198632336"
     },
     "user_tz": -330
    },
    "id": "VEVMU-lvdXP2",
    "outputId": "5c582d78-1a1d-487a-ea9c-865887969ec4"
   },
   "outputs": [],
   "source": [
    "!pip install lightgbm catboost xgboost\n",
    "\n",
    "from sklearn.model_selection import StratifiedKFold\n",
    "from sklearn.linear_model import LogisticRegression\n",
    "from sklearn.metrics import accuracy_score, classification_report, confusion_matrix\n",
    "import numpy as np\n",
    "import pandas as pd\n",
    "import xgboost as xgb\n",
    "import lightgbm as lgb\n",
    "from catboost import CatBoostClassifier\n",
    "\n",
    "# === 1️⃣ Base models with your tuned/best parameters ===\n",
    "xgb_model = xgb.XGBClassifier(\n",
    "    learning_rate=0.14568258239424609,\n",
    "    max_depth=6,\n",
    "    subsample=0.7290186302174095,\n",
    "    colsample_bytree=0.5876436160089679,\n",
    "    reg_alpha=4.2192212447413855,\n",
    "    reg_lambda=8.431802769532,\n",
    "    n_estimators=264,\n",
    "    use_label_encoder=False,\n",
    "    eval_metric=\"mlogloss\",\n",
    "    random_state=42\n",
    ")\n",
    "\n",
    "lgb_model = lgb.LGBMClassifier(\n",
    "    learning_rate=0.05,\n",
    "    max_depth=-1,\n",
    "    num_leaves=31,\n",
    "    subsample=0.8,\n",
    "    colsample_bytree=0.8,\n",
    "    n_estimators=300,\n",
    "    random_state=42\n",
    ")\n",
    "\n",
    "cat_model = CatBoostClassifier(\n",
    "    learning_rate=0.05,\n",
    "    depth=6,\n",
    "    l2_leaf_reg=3,\n",
    "    iterations=300,\n",
    "    eval_metric='Accuracy',\n",
    "    random_state=42,\n",
    "    verbose=0\n",
    ")\n",
    "\n",
    "# === 2️⃣ Stacking setup ===\n",
    "def stacking_train_predict(X, y, X_test, n_splits=5):\n",
    "    skf = StratifiedKFold(n_splits=n_splits, shuffle=True, random_state=42)\n",
    "\n",
    "    # Placeholders for out-of-fold predictions\n",
    "    oof_preds_xgb = np.zeros((len(X), len(np.unique(y))))\n",
    "    oof_preds_lgb = np.zeros((len(X), len(np.unique(y))))\n",
    "    oof_preds_cat = np.zeros((len(X), len(np.unique(y))))\n",
    "\n",
    "    test_preds_xgb = np.zeros((len(X_test), len(np.unique(y))))\n",
    "    test_preds_lgb = np.zeros((len(X_test), len(np.unique(y))))\n",
    "    test_preds_cat = np.zeros((len(X_test), len(np.unique(y))))\n",
    "\n",
    "    # Cross-validation loop\n",
    "    for fold, (train_idx, val_idx) in enumerate(skf.split(X, y)):\n",
    "        print(f\"Fold {fold+1}\")\n",
    "\n",
    "        X_train, X_val = X[train_idx], X[val_idx]\n",
    "        y_train, y_val = y[train_idx], y[val_idx]\n",
    "\n",
    "        # Train each base model\n",
    "        xgb_model.fit(X_train, y_train)\n",
    "        lgb_model.fit(X_train, y_train)\n",
    "        cat_model.fit(X_train, y_train)\n",
    "\n",
    "        # Store OOF predictions\n",
    "        oof_preds_xgb[val_idx] = xgb_model.predict_proba(X_val)\n",
    "        oof_preds_lgb[val_idx] = lgb_model.predict_proba(X_val)\n",
    "        oof_preds_cat[val_idx] = cat_model.predict_proba(X_val)\n",
    "\n",
    "        # Store test set predictions\n",
    "        test_preds_xgb += xgb_model.predict_proba(X_test) / n_splits\n",
    "        test_preds_lgb += lgb_model.predict_proba(X_test) / n_splits\n",
    "        test_preds_cat += cat_model.predict_proba(X_test) / n_splits\n",
    "\n",
    "    # Stack the OOF predictions for meta learner training\n",
    "    oof_train = np.hstack([oof_preds_xgb, oof_preds_lgb, oof_preds_cat])\n",
    "    test_meta = np.hstack([test_preds_xgb, test_preds_lgb, test_preds_cat])\n",
    "\n",
    "    return oof_train, test_meta\n",
    "\n",
    "# === 3️⃣ Train stacked model ===\n",
    "# Convert X_train, X_test to numpy arrays if they are DataFrames\n",
    "X_train_np = np.array(X_train)\n",
    "X_test_np = np.array(X_test)\n",
    "y_train_np = np.array(y_train)\n",
    "\n",
    "oof_train, test_meta = stacking_train_predict(X_train_np, y_train_np, X_test_np, n_splits=5)\n",
    "\n",
    "meta_model = LogisticRegression(max_iter=1000, random_state=42)\n",
    "meta_model.fit(oof_train, y_train_np)\n",
    "\n",
    "# === 4️⃣ Final predictions ===\n",
    "final_preds = meta_model.predict(test_meta)\n",
    "\n",
    "print(\"Accuracy:\", accuracy_score(y_test, final_preds))\n",
    "print(\"\\nClassification Report:\\n\", classification_report(y_test, final_preds))\n",
    "print(\"Confusion Matrix:\\n\", confusion_matrix(y_test, final_preds))"
   ]
  },
  {
   "cell_type": "code",
   "execution_count": null,
   "metadata": {
    "colab": {
     "base_uri": "https://localhost:8080/",
     "height": 673
    },
    "executionInfo": {
     "elapsed": 26824,
     "status": "ok",
     "timestamp": 1754935256627,
     "user": {
      "displayName": "sahil singh",
      "userId": "03695066597198632336"
     },
     "user_tz": -330
    },
    "id": "DjfruzkbRdYq",
    "outputId": "77d1cd1a-38ff-44e2-887b-3ba00b8ad34c"
   },
   "outputs": [],
   "source": [
    "import numpy as np\n",
    "import matplotlib.pyplot as plt\n",
    "from sklearn.metrics import precision_recall_curve, average_precision_score, f1_score\n",
    "import xgboost as xgb\n",
    "\n",
    "# ✅ Best parameters from your tuning\n",
    "xgb_model = xgb.XGBClassifier(\n",
    "    learning_rate=0.14568258239424609,\n",
    "    max_depth=6,\n",
    "    subsample=0.7290186302174095,\n",
    "    colsample_bytree=0.5876436160089679,\n",
    "    reg_alpha=4.2192212447413855,\n",
    "    reg_lambda=8.431802769532,\n",
    "    n_estimators=264,\n",
    "    use_label_encoder=False,\n",
    "    eval_metric=\"mlogloss\",\n",
    "    random_state=42\n",
    ")\n",
    "\n",
    "# Train\n",
    "xgb_model.fit(X_train, y_train)\n",
    "\n",
    "# ----------------------------\n",
    "# Pick a class for PR curve (e.g., minority class 2)\n",
    "# ----------------------------\n",
    "class_of_interest = 2\n",
    "y_true_binary = (y_test == class_of_interest).astype(int)  # convert to binary: class_of_interest vs rest\n",
    "\n",
    "# Probabilities for that class\n",
    "y_proba = xgb_model.predict_proba(X_test)[:, class_of_interest]\n",
    "\n",
    "# ----------------------------\n",
    "# Precision–Recall curve\n",
    "# ----------------------------\n",
    "precision, recall, thresholds = precision_recall_curve(y_true_binary, y_proba)\n",
    "pr_auc = average_precision_score(y_true_binary, y_proba)\n",
    "\n",
    "plt.figure(figsize=(6, 6))\n",
    "plt.plot(recall, precision, label=f'PR AUC (class {class_of_interest}) = {pr_auc:.3f}')\n",
    "plt.xlabel(\"Recall\")\n",
    "plt.ylabel(\"Precision\")\n",
    "plt.title(f\"Precision–Recall Curve for Class {class_of_interest}\")\n",
    "plt.legend()\n",
    "plt.grid(True)\n",
    "plt.show()\n",
    "\n",
    "# ----------------------------\n",
    "# Find the best threshold (maximizing F1-score)\n",
    "# ----------------------------\n",
    "f1_scores = [f1_score(y_true_binary, (y_proba >= t).astype(int)) for t in thresholds]\n",
    "best_idx = np.argmax(f1_scores)\n",
    "best_threshold = thresholds[best_idx]\n",
    "print(f\"Best Threshold for class {class_of_interest}: {best_threshold:.3f}\")\n",
    "print(f\"Best F1-score: {f1_scores[best_idx]:.3f}\")\n"
   ]
  },
  {
   "cell_type": "code",
   "execution_count": null,
   "metadata": {
    "colab": {
     "base_uri": "https://localhost:8080/",
     "height": 600
    },
    "executionInfo": {
     "elapsed": 14603,
     "status": "ok",
     "timestamp": 1754935311195,
     "user": {
      "displayName": "sahil singh",
      "userId": "03695066597198632336"
     },
     "user_tz": -330
    },
    "id": "N3WZjXTrSnxy",
    "outputId": "aa277d7f-9926-4586-a4fc-1e2f6b6ee653"
   },
   "outputs": [],
   "source": [
    "# ----------------------------\n",
    "class_of_interest = 0\n",
    "y_true_binary = (y_test == class_of_interest).astype(int)  # convert to binary: class_of_interest vs rest\n",
    "\n",
    "# Probabilities for that class\n",
    "y_proba = xgb_model.predict_proba(X_test)[:, class_of_interest]\n",
    "\n",
    "# ----------------------------\n",
    "# Precision–Recall curve\n",
    "# ----------------------------\n",
    "precision, recall, thresholds = precision_recall_curve(y_true_binary, y_proba)\n",
    "pr_auc = average_precision_score(y_true_binary, y_proba)\n",
    "\n",
    "plt.figure(figsize=(6, 6))\n",
    "plt.plot(recall, precision, label=f'PR AUC (class {class_of_interest}) = {pr_auc:.3f}')\n",
    "plt.xlabel(\"Recall\")\n",
    "plt.ylabel(\"Precision\")\n",
    "plt.title(f\"Precision–Recall Curve for Class {class_of_interest}\")\n",
    "plt.legend()\n",
    "plt.grid(True)\n",
    "plt.show()\n",
    "\n",
    "# ----------------------------\n",
    "# Find the best threshold (maximizing F1-score)\n",
    "# ----------------------------\n",
    "f1_scores = [f1_score(y_true_binary, (y_proba >= t).astype(int)) for t in thresholds]\n",
    "best_idx = np.argmax(f1_scores)\n",
    "best_threshold = thresholds[best_idx]\n",
    "print(f\"Best Threshold for class {class_of_interest}: {best_threshold:.3f}\")\n",
    "print(f\"Best F1-score: {f1_scores[best_idx]:.3f}\")\n"
   ]
  },
  {
   "cell_type": "code",
   "execution_count": null,
   "metadata": {
    "id": "UcGG0pm4TUte"
   },
   "outputs": [],
   "source": []
  },
  {
   "cell_type": "code",
   "execution_count": null,
   "metadata": {
    "colab": {
     "base_uri": "https://localhost:8080/",
     "height": 600
    },
    "executionInfo": {
     "elapsed": 15030,
     "status": "ok",
     "timestamp": 1754935537077,
     "user": {
      "displayName": "sahil singh",
      "userId": "03695066597198632336"
     },
     "user_tz": -330
    },
    "id": "1jZRNXvkTYZ7",
    "outputId": "a392e80d-b936-4012-a0ec-949285d3def3"
   },
   "outputs": [],
   "source": [
    "# ----------------------------\n",
    "class_of_interest = 3\n",
    "y_true_binary = (y_test == class_of_interest).astype(int)  # convert to binary: class_of_interest vs rest\n",
    "\n",
    "# Probabilities for that class\n",
    "y_proba = xgb_model.predict_proba(X_test)[:, class_of_interest]\n",
    "\n",
    "# ----------------------------\n",
    "# Precision–Recall curve\n",
    "# ----------------------------\n",
    "precision, recall, thresholds = precision_recall_curve(y_true_binary, y_proba)\n",
    "pr_auc = average_precision_score(y_true_binary, y_proba)\n",
    "\n",
    "plt.figure(figsize=(6, 6))\n",
    "plt.plot(recall, precision, label=f'PR AUC (class {class_of_interest}) = {pr_auc:.3f}')\n",
    "plt.xlabel(\"Recall\")\n",
    "plt.ylabel(\"Precision\")\n",
    "plt.title(f\"Precision–Recall Curve for Class {class_of_interest}\")\n",
    "plt.legend()\n",
    "plt.grid(True)\n",
    "plt.show()\n",
    "\n",
    "# ----------------------------\n",
    "# Find the best threshold (maximizing F1-score)\n",
    "# ----------------------------\n",
    "f1_scores = [f1_score(y_true_binary, (y_proba >= t).astype(int)) for t in thresholds]\n",
    "best_idx = np.argmax(f1_scores)\n",
    "best_threshold = thresholds[best_idx]\n",
    "print(f\"Best Threshold for class {class_of_interest}: {best_threshold:.3f}\")\n",
    "print(f\"Best F1-score: {f1_scores[best_idx]:.3f}\")\n"
   ]
  },
  {
   "cell_type": "code",
   "execution_count": null,
   "metadata": {
    "colab": {
     "base_uri": "https://localhost:8080/"
    },
    "executionInfo": {
     "elapsed": 324,
     "status": "ok",
     "timestamp": 1754935741317,
     "user": {
      "displayName": "sahil singh",
      "userId": "03695066597198632336"
     },
     "user_tz": -330
    },
    "id": "MQ1lvMY3TUkK",
    "outputId": "e4d0a515-84df-4ff3-9744-fc7630109bde"
   },
   "outputs": [],
   "source": [
    "import numpy as np\n",
    "\n",
    "# Your per-class thresholds\n",
    "thresholds = {\n",
    "    0: 0.256,\n",
    "    1: 0.396,\n",
    "    2: 0.169,\n",
    "    3: 0.389\n",
    "}\n",
    "\n",
    "# Predicted probabilities\n",
    "y_scores = xgb_model.predict_proba(X_test)\n",
    "\n",
    "# Apply per-class thresholds\n",
    "y_pred_custom = []\n",
    "for probs in y_scores:\n",
    "    # Apply thresholds mask\n",
    "    passed = [i for i, p in enumerate(probs) if p >= thresholds[i]]\n",
    "    if passed:\n",
    "        # Pick the one with highest probability among those passing threshold\n",
    "        chosen = max(passed, key=lambda i: probs[i])\n",
    "    else:\n",
    "        # Fallback to normal argmax if no threshold passed\n",
    "        chosen = np.argmax(probs)\n",
    "    y_pred_custom.append(chosen)\n",
    "\n",
    "y_pred_custom = np.array(y_pred_custom)\n",
    "\n",
    "from sklearn.metrics import classification_report, confusion_matrix\n",
    "print(\"Classification Report with Custom Thresholds:\")\n",
    "print(classification_report(y_test, y_pred_custom))\n",
    "print(\"Confusion Matrix with Custom Thresholds:\")\n",
    "print(confusion_matrix(y_test, y_pred_custom))"
   ]
  },
  {
   "cell_type": "code",
   "execution_count": null,
   "metadata": {
    "id": "qtljnlChW2wA"
   },
   "outputs": [],
   "source": [
    "!pip install shap"
   ]
  },
  {
   "cell_type": "code",
   "execution_count": null,
   "metadata": {
    "colab": {
     "base_uri": "https://localhost:8080/",
     "height": 1000
    },
    "executionInfo": {
     "elapsed": 357764,
     "status": "ok",
     "timestamp": 1754938607880,
     "user": {
      "displayName": "sahil singh",
      "userId": "03695066597198632336"
     },
     "user_tz": -330
    },
    "id": "-N3XW9W-eAQQ",
    "outputId": "6a4cc75e-1cee-49cb-f459-4b59a00c957d"
   },
   "outputs": [],
   "source": [
    "import xgboost as xgb\n",
    "import shap\n",
    "import pandas as pd\n",
    "import numpy as np\n",
    "\n",
    "# =========================\n",
    "model= xgb_model\n",
    "# =========================\n",
    "# 2. Compute SHAP values\n",
    "# =========================\n",
    "explainer = shap.TreeExplainer(model)\n",
    "shap_values = explainer.shap_values(X_train)\n",
    "\n",
    "# =========================\n",
    "# 3. Handle both list and array outputs\n",
    "# =========================\n",
    "if isinstance(shap_values, list):\n",
    "    # Old SHAP version output\n",
    "    for class_idx in range(len(shap_values)):\n",
    "        print(f\"\\nTop 10 important features for Class {class_idx}:\")\n",
    "        shap_df = pd.DataFrame({\n",
    "            \"feature\": X_train.columns,\n",
    "            \"mean_abs_shap\": np.abs(shap_values[class_idx]).mean(axis=0)\n",
    "        }).sort_values(\"mean_abs_shap\", ascending=False).head(10)\n",
    "        print(shap_df)\n",
    "        shap.summary_plot(shap_values[class_idx], X_train, show=False)\n",
    "\n",
    "elif isinstance(shap_values, np.ndarray) and shap_values.ndim == 3:\n",
    "    # New SHAP version output: (n_samples, n_features, n_classes)\n",
    "    n_classes = shap_values.shape[2]\n",
    "    for class_idx in range(n_classes):\n",
    "        class_shap = shap_values[:, :, class_idx]\n",
    "        print(f\"\\nTop 10 important features for Class {class_idx}:\")\n",
    "        shap_df = pd.DataFrame({\n",
    "            \"feature\": X_train.columns,\n",
    "            \"mean_abs_shap\": np.abs(class_shap).mean(axis=0)\n",
    "        }).sort_values(\"mean_abs_shap\", ascending=False).head(10)\n",
    "        print(shap_df)\n",
    "        shap.summary_plot(class_shap, X_train, show=False)\n",
    "\n",
    "else:\n",
    "    raise ValueError(f\"Unexpected SHAP output shape: {type(shap_values)}, shape={np.shape(shap_values)}\")\n"
   ]
  },
  {
   "cell_type": "code",
   "execution_count": null,
   "metadata": {
    "id": "TB1mAbvgeAMp"
   },
   "outputs": [],
   "source": []
  }
 ],
 "metadata": {
  "colab": {
   "authorship_tag": "ABX9TyNNo/8QdLE2r1PCOMIsTaZm",
   "provenance": []
  },
  "kernelspec": {
   "display_name": "Python 3",
   "name": "python3"
  },
  "language_info": {
   "name": "python"
  }
 },
 "nbformat": 4,
 "nbformat_minor": 0
}
